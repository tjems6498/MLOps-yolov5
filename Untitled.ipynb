{
 "cells": [
  {
   "cell_type": "code",
   "execution_count": 1,
   "id": "e0f5d1ec-e0b3-44ce-955b-a453d64a19ea",
   "metadata": {},
   "outputs": [],
   "source": [
    "import yaml"
   ]
  },
  {
   "cell_type": "code",
   "execution_count": 3,
   "id": "5c1ac223-b7d5-4248-9f4d-eee98eb73dee",
   "metadata": {
    "collapsed": true,
    "jupyter": {
     "outputs_hidden": true
    },
    "tags": []
   },
   "outputs": [
    {
     "name": "stdout",
     "output_type": "stream",
     "text": [
      "{'path': '../datasets/coco', 'train': 'train2017.txt', 'val': 'val2017.txt', 'test': 'test-dev2017.txt', 'nc': 80, 'names': ['person', 'bicycle', 'car', 'motorcycle', 'airplane', 'bus', 'train', 'truck', 'boat', 'traffic light', 'fire hydrant', 'stop sign', 'parking meter', 'bench', 'bird', 'cat', 'dog', 'horse', 'sheep', 'cow', 'elephant', 'bear', 'zebra', 'giraffe', 'backpack', 'umbrella', 'handbag', 'tie', 'suitcase', 'frisbee', 'skis', 'snowboard', 'sports ball', 'kite', 'baseball bat', 'baseball glove', 'skateboard', 'surfboard', 'tennis racket', 'bottle', 'wine glass', 'cup', 'fork', 'knife', 'spoon', 'bowl', 'banana', 'apple', 'sandwich', 'orange', 'broccoli', 'carrot', 'hot dog', 'pizza', 'donut', 'cake', 'chair', 'couch', 'potted plant', 'bed', 'dining table', 'toilet', 'tv', 'laptop', 'mouse', 'remote', 'keyboard', 'cell phone', 'microwave', 'oven', 'toaster', 'sink', 'refrigerator', 'book', 'clock', 'vase', 'scissors', 'teddy bear', 'hair drier', 'toothbrush'], 'download': \"from utils.general import download, Path\\n\\n\\n# Download labels\\nsegments = False  # segment or box labels\\ndir = Path(yaml['path'])  # dataset root dir\\nurl = 'https://github.com/ultralytics/yolov5/releases/download/v1.0/'\\nurls = [url + ('coco2017labels-segments.zip' if segments else 'coco2017labels.zip')]  # labels\\ndownload(urls, dir=dir.parent)\\n\\n# Download data\\nurls = ['http://images.cocodataset.org/zips/train2017.zip',  # 19G, 118k images\\n        'http://images.cocodataset.org/zips/val2017.zip',  # 1G, 5k images\\n        'http://images.cocodataset.org/zips/test2017.zip']  # 7G, 41k images (optional)\\ndownload(urls, dir=dir / 'images', threads=3)\\n\"}\n"
     ]
    },
    {
     "name": "stderr",
     "output_type": "stream",
     "text": [
      "<ipython-input-3-75217ec4ac15>:3: YAMLLoadWarning: calling yaml.load() without Loader=... is deprecated, as the default Loader is unsafe. Please read https://msg.pyyaml.org/load for full details.\n",
      "  vegetables = yaml.load(f)\n"
     ]
    }
   ],
   "source": [
    "with open('yolov5/data/coco.yaml') as f:\n",
    "\n",
    "    vegetables = yaml.load(f)\n",
    "\n",
    "    print(vegetables)\n"
   ]
  },
  {
   "cell_type": "code",
   "execution_count": 6,
   "id": "8179c3c4-f8e3-4364-932c-42b5c4aa1ee2",
   "metadata": {},
   "outputs": [],
   "source": [
    "with open('class.names', 'r') as f:\n",
    "    labels = f.read().split('\\n')"
   ]
  },
  {
   "cell_type": "code",
   "execution_count": 8,
   "id": "58596bba-620b-4a65-af93-1ea28f86a10e",
   "metadata": {},
   "outputs": [
    {
     "data": {
      "text/plain": [
       "4"
      ]
     },
     "execution_count": 8,
     "metadata": {},
     "output_type": "execute_result"
    }
   ],
   "source": [
    "len(labels)"
   ]
  },
  {
   "cell_type": "code",
   "execution_count": null,
   "id": "ed5673b6-3c7b-4a98-8e2d-294556505427",
   "metadata": {},
   "outputs": [],
   "source": []
  }
 ],
 "metadata": {
  "kernelspec": {
   "display_name": "Python 3",
   "language": "python",
   "name": "python3"
  },
  "language_info": {
   "codemirror_mode": {
    "name": "ipython",
    "version": 3
   },
   "file_extension": ".py",
   "mimetype": "text/x-python",
   "name": "python",
   "nbconvert_exporter": "python",
   "pygments_lexer": "ipython3",
   "version": "3.8.8"
  }
 },
 "nbformat": 4,
 "nbformat_minor": 5
}
